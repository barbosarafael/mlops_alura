{
 "cells": [
  {
   "cell_type": "code",
   "execution_count": 2,
   "metadata": {
    "colab": {},
    "colab_type": "code",
    "id": "PCQtQXVz2lnR"
   },
   "outputs": [],
   "source": [
    "from textblob import TextBlob"
   ]
  },
  {
   "cell_type": "code",
   "execution_count": 3,
   "metadata": {
    "colab": {},
    "colab_type": "code",
    "id": "8Y-um8TS26vb"
   },
   "outputs": [],
   "source": [
    "frase = \"Python é ótimo para Machine Learning\"\n",
    "tb = TextBlob(frase)\n",
    "tb_en = tb.translate(to = 'en', from_lang = 'pt')"
   ]
  },
  {
   "cell_type": "code",
   "execution_count": 4,
   "metadata": {
    "colab": {
     "base_uri": "https://localhost:8080/",
     "height": 34
    },
    "colab_type": "code",
    "id": "SO0WSoTm3KXJ",
    "outputId": "bea74843-4d05-495c-bfce-f9023b2e36a3"
   },
   "outputs": [
    {
     "data": {
      "text/plain": [
       "0.8"
      ]
     },
     "execution_count": 4,
     "metadata": {},
     "output_type": "execute_result"
    }
   ],
   "source": [
    "tb_en.sentiment.polarity"
   ]
  },
  {
   "cell_type": "code",
   "execution_count": 5,
   "metadata": {
    "colab": {
     "base_uri": "https://localhost:8080/",
     "height": 34
    },
    "colab_type": "code",
    "id": "1L2HbLII3lzT",
    "outputId": "3dc5b2aa-ffb4-43e7-e3c0-f0d8ef95c407"
   },
   "outputs": [
    {
     "data": {
      "text/plain": [
       "TextBlob(\"Python is great for Machine Learning\")"
      ]
     },
     "execution_count": 5,
     "metadata": {},
     "output_type": "execute_result"
    }
   ],
   "source": [
    "tb_en"
   ]
  }
 ],
 "metadata": {
  "colab": {
   "name": "analise-de-sentimentoipynb",
   "provenance": []
  },
  "kernelspec": {
   "display_name": "Python 3.10.6 ('venv': venv)",
   "language": "python",
   "name": "python3"
  },
  "language_info": {
   "codemirror_mode": {
    "name": "ipython",
    "version": 3
   },
   "file_extension": ".py",
   "mimetype": "text/x-python",
   "name": "python",
   "nbconvert_exporter": "python",
   "pygments_lexer": "ipython3",
   "version": "3.10.6"
  },
  "vscode": {
   "interpreter": {
    "hash": "a6986d22caf84bc95814097e6d05175f8dc884d8e111819f2b97fe55e3b6008d"
   }
  }
 },
 "nbformat": 4,
 "nbformat_minor": 4
}
